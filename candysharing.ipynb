{
 "cells": [
  {
   "cell_type": "code",
   "execution_count": 22,
   "id": "f66f6d92-fca0-4c0b-827e-cebfb1f9f763",
   "metadata": {},
   "outputs": [
    {
     "name": "stdout",
     "output_type": "stream",
     "text": [
      "Round  | Person 1 | Person 2 | Person 3 | Max    | Min    | Max Holders\n",
      "------------------------------------------------------------------------\n",
      "0      | 70000    | 100      | 100      | 70000   | 100     | Person 1\n",
      "1      | 35050    | 35050    | 100      | 35050   | 100     | Person 1, Person 2\n",
      "2      | 17576    | 35050    | 17576    | 35050   | 17576   | Person 2\n",
      "3      | 17576    | 26314    | 26314    | 26314   | 17576   | Person 2, Person 3\n",
      "4      | 21946    | 21946    | 26314    | 26314   | 21946   | Person 3\n",
      "5      | 24130    | 21946    | 24130    | 24130   | 21946   | Person 1, Person 3\n",
      "6      | 24130    | 23038    | 23038    | 24130   | 23038   | Person 1\n",
      "7      | 23584    | 23584    | 23038    | 23584   | 23038   | Person 1, Person 2\n",
      "8      | 23312    | 23584    | 23312    | 23584   | 23312   | Person 2\n",
      "9      | 23312    | 23448    | 23448    | 23448   | 23312   | Person 2, Person 3\n",
      "10     | 23380    | 23380    | 23448    | 23448   | 23380   | Person 3\n",
      "11     | 23414    | 23380    | 23414    | 23414   | 23380   | Person 1, Person 3\n",
      "12     | 23414    | 23398    | 23398    | 23414   | 23398   | Person 1\n",
      "13     | 23406    | 23406    | 23398    | 23406   | 23398   | Person 1, Person 2\n",
      "14     | 23402    | 23406    | 23402    | 23406   | 23402   | Person 2\n",
      "15     | 23402    | 23404    | 23404    | 23404   | 23402   | Person 2, Person 3\n",
      "16     | 23404    | 23404    | 23404    | 23404   | 23404   | Person 1, Person 2, Person 3\n",
      "------------------------------------------------------------------------\n",
      "All have the same candies: 23404 after 16 rounds.\n"
     ]
    }
   ],
   "source": [
    "def candy_sharing_game_table_min_max_with_max_holders(initial_candies):\n",
    "    \"\"\"\n",
    "    Simulates the n-person candy-sharing game and displays the results in a table,\n",
    "    recording the maximum, minimum candies, and the people with the maximum candies in each round.\n",
    "    \n",
    "    Parameters:\n",
    "    initial_candies (list): A list of even integers representing the initial candy counts for n people.\n",
    "    \n",
    "    Returns:\n",
    "    None\n",
    "    \"\"\"\n",
    "    candies = initial_candies[:]\n",
    "    n = len(candies)\n",
    "    rounds = 0\n",
    "    \n",
    "    # Print header for the table\n",
    "    print(f\"{'Round':<6} | \" + \" | \".join([f\"Person {i+1}\" for i in range(n)]) + \" | Max    | Min    | Max Holders\")\n",
    "    print(\"-\" * (7 + 10 * n + 35))\n",
    "    \n",
    "    # Initial state\n",
    "    max_value = max(candies)\n",
    "    max_holders = [f\"Person {i+1}\" for i, candy in enumerate(candies) if candy == max_value]\n",
    "    print(f\"{rounds:<6} | \" + \" | \".join([f\"{candy:<8}\" for candy in candies]) + \n",
    "          f\" | {max_value:<7} | {min(candies):<7} | {', '.join(max_holders)}\")\n",
    "    \n",
    "    while len(set(candies)) > 1:  # Check if all values in candies are the same\n",
    "        rounds += 1\n",
    "        \n",
    "        # Each person passes half their candy\n",
    "        half_candies = [candy // 2 for candy in candies]\n",
    "        new_candies = [(half_candies[i - 1] + half_candies[i]) for i in range(n)]\n",
    "        \n",
    "        # Add 1 candy to anyone with an odd number\n",
    "        candies = [candy + 1 if candy % 2 != 0 else candy for candy in new_candies]\n",
    "        \n",
    "        # Calculate max value and holders\n",
    "        max_value = max(candies)\n",
    "        max_holders = [f\"Person {i+1}\" for i, candy in enumerate(candies) if candy == max_value]\n",
    "        \n",
    "        # Print round details\n",
    "        print(f\"{rounds:<6} | \" + \" | \".join([f\"{candy:<8}\" for candy in candies]) + \n",
    "              f\" | {max_value:<7} | {min(candies):<7} | {', '.join(max_holders)}\")\n",
    "    \n",
    "    print(\"-\" * (7 + 10 * n + 35))\n",
    "    print(f\"All have the same candies: {candies[0]} after {rounds} rounds.\")\n",
    "\n",
    "# Example usage\n",
    "initial_candies = [70000, 100, 100]  # Initial candies for 4 people\n",
    "candy_sharing_game_table_min_max_with_max_holders(initial_candies)\n"
   ]
  },
  {
   "cell_type": "code",
   "execution_count": null,
   "id": "ee48702a-e3d3-4f82-acb0-4638333858f4",
   "metadata": {},
   "outputs": [],
   "source": []
  }
 ],
 "metadata": {
  "kernelspec": {
   "display_name": "Python 3 (ipykernel)",
   "language": "python",
   "name": "python3"
  },
  "language_info": {
   "codemirror_mode": {
    "name": "ipython",
    "version": 3
   },
   "file_extension": ".py",
   "mimetype": "text/x-python",
   "name": "python",
   "nbconvert_exporter": "python",
   "pygments_lexer": "ipython3",
   "version": "3.12.4"
  }
 },
 "nbformat": 4,
 "nbformat_minor": 5
}
