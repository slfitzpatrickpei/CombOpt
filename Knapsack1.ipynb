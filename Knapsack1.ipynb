{
  "cells": [
    {
      "cell_type": "code",
      "execution_count": null,
      "id": "b173d81a-72a5-4d1e-8b7c-40072d761ddf",
      "metadata": {
        "id": "b173d81a-72a5-4d1e-8b7c-40072d761ddf",
        "outputId": "6b0d3509-6b7c-4838-dc04-42fd57e46fd0"
      },
      "outputs": [
        {
          "name": "stdout",
          "output_type": "stream",
          "text": [
            "Maximum Value: 135\n",
            "Items Selected: [8, 5, 4, 2, 1]\n"
          ]
        }
      ],
      "source": [
        "# Knapsack Problem\n",
        "\n",
        "# Input Data\n",
        "weights = [5, 3, 4, 2, 1, 3, 1, 4]\n",
        "values = [40, 25, 30, 20, 15, 20, 10, 35]\n",
        "capacity = 15\n",
        "\n",
        "#Dynamic Programming Solution\n",
        "def knapsack(weights, values, capacity):\n",
        "    n = len(weights)\n",
        "\n",
        "    # Create a 2D DP table\n",
        "    T = [[0 for _ in range(capacity + 1)] for _ in range(n + 1)]\n",
        "\n",
        "    # Build the table row by row\n",
        "    for i in range(1, n + 1):\n",
        "        for w in range(capacity + 1):\n",
        "            if weights[i - 1] <= w:\n",
        "                T[i][w] = max(T[i - 1][w], T[i - 1][w - weights[i - 1]] + values[i-1])\n",
        "            else:\n",
        "                T[i][w] = T[i - 1][w]\n",
        "\n",
        "    # Backtrack to find selected items\n",
        "    w = capacity\n",
        "    selected_items = []\n",
        "    for i in range(n, 0, -1):\n",
        "        if T[i][w] != T[i - 1][w]:\n",
        "            selected_items.append(i)\n",
        "            w -= weights[i - 1]\n",
        "\n",
        "    return T[n][capacity], selected_items\n",
        "\n",
        "\n",
        "\n",
        "\n",
        "# Solve the problem\n",
        "max_value, items = knapsack(weights, values, capacity)\n",
        "\n",
        "# Output the results\n",
        "print(f\"Maximum Value: {max_value}\")\n",
        "print(f\"Items Selected: {items}\")"
      ]
    },
    {
      "cell_type": "code",
      "execution_count": null,
      "id": "602d6309-ddda-4ba2-bac1-8b98aa06ec93",
      "metadata": {
        "id": "602d6309-ddda-4ba2-bac1-8b98aa06ec93"
      },
      "outputs": [],
      "source": []
    }
  ],
  "metadata": {
    "kernelspec": {
      "display_name": "Python 3 (ipykernel)",
      "language": "python",
      "name": "python3"
    },
    "language_info": {
      "codemirror_mode": {
        "name": "ipython",
        "version": 3
      },
      "file_extension": ".py",
      "mimetype": "text/x-python",
      "name": "python",
      "nbconvert_exporter": "python",
      "pygments_lexer": "ipython3",
      "version": "3.12.4"
    },
    "colab": {
      "provenance": []
    }
  },
  "nbformat": 4,
  "nbformat_minor": 5
}