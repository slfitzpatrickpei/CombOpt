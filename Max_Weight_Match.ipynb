{
 "cells": [
  {
   "cell_type": "markdown",
   "id": "6bd1e5ab-3494-47f3-bf23-bf0a3ba2b05b",
   "metadata": {},
   "source": [
    "Problem 1:  Find a maximum weight matching of the complete bipartite graph G with partitite sets {a, c, b, d} and {w, x, y, z}.  The 16 edges along with their weights are defined in the list \"edges\" below.   \n",
    "\n",
    "The solution is provided below.  After the graph G is defined, the command nx.max_weight_matching(G) finds a matching of maximum weight."
   ]
  },
  {
   "cell_type": "code",
   "execution_count": 3,
   "id": "9b56ce4c-15b3-47a1-befa-6ab675d10ec5",
   "metadata": {},
   "outputs": [
    {
     "name": "stdout",
     "output_type": "stream",
     "text": [
      "Maximum Weight Matching: {('z', 'c'), ('b', 'x'), ('a', 'w'), ('y', 'd')}\n"
     ]
    }
   ],
   "source": [
    "import networkx as nx\n",
    "G = nx.Graph()\n",
    "edges = [('a', 'w', 38), ('a', 'x', 30), ('a', 'y', 25), ('a', 'z', 35),('b', 'w', 28), ('b', 'x', 32), ('b', 'y', 20), ('b', 'z', 40), \n",
    "        ('c', 'w', 33), ('c', 'x', 22), ('c', 'y', 15), ('c', 'z', 38), ('d', 'w', 35), ('d', 'x', 26), ('d', 'y', 30), ('d', 'z', 34)]\n",
    "G.add_weighted_edges_from(edges)\n",
    "\n",
    "Max_Match = nx.max_weight_matching(G)\n",
    "print(\"Maximum Weight Matching:\", Max_Match)"
   ]
  },
  {
   "cell_type": "markdown",
   "id": "a3a1ae29-bfec-455f-bdd4-61e01b11898e",
   "metadata": {},
   "source": [
    "We see that the maximum weight matching is {aw, bx, cz, dy} which has weight 38+32+38+30=138."
   ]
  },
  {
   "cell_type": "markdown",
   "id": "ff7559ea-fa15-490b-a490-228a72be8683",
   "metadata": {},
   "source": [
    "\n",
    "\n",
    "________________________________________________________________________\n",
    "\n",
    "\n"
   ]
  },
  {
   "cell_type": "markdown",
   "id": "91c36611-4c5a-47fb-b7e2-76818d9932a4",
   "metadata": {},
   "source": [
    "Problem 2: Optimal Delivery Matching for Autonomous Drones\n",
    "\n",
    "A logistics company has six autonomous drones and six delivery locations. Each drone has a suitability score based on the terrain, distance, and payload requirements for each delivery location. The goal is to assign each drone to a unique delivery location in a way that maximizes the total suitability score.\n",
    "\n",
    "The solution is provided below. In this case, the weights are provided in the suitability_matrix.  The rows are indexed by Drones D0 through D5 and the columns indexed by locations L0 through L5.  The vertex and edge sets for bipartite graph B are then created.  After the graph B is defined, the command nx.max_weight_matching(B) finds a matching of maximum weight."
   ]
  },
  {
   "cell_type": "code",
   "execution_count": 7,
   "id": "1a79217b-6a6b-46a8-863b-eadeb70d9a70",
   "metadata": {},
   "outputs": [
    {
     "data": {
      "text/plain": [
       "{('D0', 'L5'),\n",
       " ('D2', 'L2'),\n",
       " ('D5', 'L1'),\n",
       " ('L0', 'D4'),\n",
       " ('L3', 'D3'),\n",
       " ('L4', 'D1')}"
      ]
     },
     "execution_count": 7,
     "metadata": {},
     "output_type": "execute_result"
    }
   ],
   "source": [
    "import networkx as nx\n",
    "\n",
    "# The weights are given by the following suitability matrix.  \n",
    "# The rows are indexed by Drones D0 through D5 and the columns indexed by locations L0 through L5.\n",
    "\n",
    "suitability_matrix = [\n",
    "    [78, 42, 65, 89, 53, 75],\n",
    "    [62, 85, 77, 58, 91, 63],\n",
    "    [80, 45, 95, 68, 55, 70],\n",
    "    [50, 60, 72, 82, 84, 66],\n",
    "    [93, 78, 52, 88, 74, 81],\n",
    "    [69, 95, 90, 56, 82, 79] ]\n",
    "\n",
    "# Create a bipartite graph\n",
    "B = nx.Graph()\n",
    "\n",
    "# Add drone vertices (D0 through D5) and location vertices (L0 through L5)\n",
    "drones = [f'D{i}' for i in range(6)]\n",
    "locations = [f'L{j}' for j in range(6)]\n",
    "\n",
    "# Add edges with weights based on the suitability matrix\n",
    "for i, drone in enumerate(drones):\n",
    "    for j, location in enumerate(locations):\n",
    "        B.add_edge(drone, location, weight=suitability_matrix[i][j])\n",
    "\n",
    "#Solve the maximum weight matching problem\n",
    "nx.max_weight_matching(B)"
   ]
  },
  {
   "cell_type": "markdown",
   "id": "2ae7acee-bbec-4667-9684-888000e2b96a",
   "metadata": {},
   "source": [
    "We see that the maximum weight matching is {D0L5, D1L4, D2L2, D3L3, D4L0, D5L1} which has weight 75+91+95+82+93+95=521."
   ]
  },
  {
   "cell_type": "code",
   "execution_count": null,
   "id": "1b35fbb6-68a9-4d37-a14d-d908c194de76",
   "metadata": {},
   "outputs": [],
   "source": []
  }
 ],
 "metadata": {
  "kernelspec": {
   "display_name": "Python 3 (ipykernel)",
   "language": "python",
   "name": "python3"
  },
  "language_info": {
   "codemirror_mode": {
    "name": "ipython",
    "version": 3
   },
   "file_extension": ".py",
   "mimetype": "text/x-python",
   "name": "python",
   "nbconvert_exporter": "python",
   "pygments_lexer": "ipython3",
   "version": "3.12.4"
  }
 },
 "nbformat": 4,
 "nbformat_minor": 5
}
